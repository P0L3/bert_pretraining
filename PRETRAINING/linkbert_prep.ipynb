{
 "cells": [
  {
   "cell_type": "markdown",
   "id": "d1414ab8",
   "metadata": {},
   "source": [
    "A notebook to explore availability of data for LinkBERT style pretraining."
   ]
  },
  {
   "cell_type": "markdown",
   "id": "c789d671",
   "metadata": {},
   "source": [
    "## Data an Libraries"
   ]
  },
  {
   "cell_type": "code",
   "execution_count": null,
   "id": "40350ff5",
   "metadata": {},
   "outputs": [],
   "source": [
    "import pandas as pd\n",
    "import numpy as np\n",
    "import matplotlib.pyplot as plt\n",
    "import seaborn as sns"
   ]
  },
  {
   "cell_type": "code",
   "execution_count": null,
   "id": "32b40ec2",
   "metadata": {},
   "outputs": [],
   "source": [
    "df = pd.read_pickle(\"DATASET/ED4RE_2503/ED4RE_2603.pickle\")"
   ]
  },
  {
   "cell_type": "code",
   "execution_count": null,
   "id": "fe89ec80",
   "metadata": {},
   "outputs": [],
   "source": [
    "\n",
    "# --- Step 1: Calculate the number of references for each document ---\n",
    "def get_reference_count(ref_entry):\n",
    "    if isinstance(ref_entry, list):\n",
    "        return len(ref_entry)\n",
    "    elif ref_entry == \"no_references\":\n",
    "        return 0\n",
    "    else: # This handles strings and other non-list types\n",
    "        return 1\n",
    "\n",
    "# Apply this function to create a new column with the counts\n",
    "df['num_references'] = df['References'].apply(get_reference_count)\n",
    "\n",
    "\n",
    "# --- Step 2: Get high-level statistics ---\n",
    "\n",
    "# First, let's count how many are neatly structured vs. single blobs\n",
    "is_list_mask = df['References'].apply(lambda x: isinstance(x, list))\n",
    "list_count = is_list_mask.sum()\n",
    "string_blob_count = len(df) - list_count\n",
    "\n",
    "print(\"=\"*60)\n",
    "print(\"Analysis of Reference Column Structure\")\n",
    "print(\"=\"*60)\n",
    "print(f\"Total documents with potential references: {len(df):,}\")\n",
    "print(f\"Documents with references as a list (good format): {list_count:,} ({list_count/len(df):.2%})\")\n",
    "print(f\"Documents with references as a single string (needs parsing): {string_blob_count:,} ({string_blob_count/len(df):.2%})\")\n",
    "print(\"\\n\")\n",
    "\n",
    "\n",
    "# Now, let's get descriptive statistics on the 'num_references' column\n",
    "print(\"=\"*60)\n",
    "print(\"Descriptive Statistics for Number of References per Document\")\n",
    "print(\"=\"*60)\n",
    "# The describe() output will be heavily influenced by the single-string blobs (value=1)\n",
    "# so we'll show stats for both all data and just the list-formatted data.\n",
    "print(\"--- Overall (including single-string blobs as 1) ---\")\n",
    "print(df['num_references'].describe())\n",
    "print(\"\\n\")\n",
    "\n",
    "# Filter for only the documents that had a list to get a cleaner distribution\n",
    "df_lists_only = df[is_list_mask]\n",
    "print(\"--- For List-Formatted References Only ---\")\n",
    "print(df_lists_only['num_references'].describe())\n",
    "print(\"=\"*60)\n",
    "\n",
    "\n",
    "# --- Step 3: Visualize the distribution ---\n",
    "\n",
    "print(\"\\nGenerating visualizations...\")\n",
    "\n",
    "# Set plot style\n",
    "sns.set_theme(style=\"whitegrid\")\n",
    "\n",
    "# Plot 1: Histogram of all reference counts\n",
    "plt.figure(figsize=(14, 7))\n",
    "sns.histplot(data=df, x='num_references', bins=100) # Use a good number of bins\n",
    "plt.title('Distribution of Reference Count (All Documents)', fontsize=16)\n",
    "plt.xlabel('Number of References (Single Strings are count=1)', fontsize=12)\n",
    "plt.ylabel('Number of Documents (Log Scale)', fontsize=12)\n",
    "plt.yscale('log') # Use a log scale for the y-axis to see the full range\n",
    "plt.show()\n",
    "\n",
    "# Plot 2: Histogram focusing on the \"good\" data (lists only)\n",
    "# This ignores the large spike at count=1 from string blobs\n",
    "plt.figure(figsize=(14, 7))\n",
    "sns.histplot(data=df_lists_only, x='num_references', bins=10, kde=True)\n",
    "plt.title('Distribution of Reference Count (List-Formatted Data Only)', fontsize=16)\n",
    "plt.xlabel('Number of References', fontsize=12)\n",
    "plt.ylabel('Number of Documents', fontsize=12)\n",
    "# No log scale here to see the shape of the \"clean\" data more clearly\n",
    "# unless it's also highly skewed.\n",
    "plt.xlim(left=0) # Start x-axis at 0\n",
    "plt.show()"
   ]
  },
  {
   "cell_type": "markdown",
   "id": "ed335418",
   "metadata": {},
   "source": [
    "Total documents with potential references: 171,880\n",
    "Documents with references as a list (good format): 162,726 (94.67%)\n",
    "Documents with references as a single string (needs parsing): 9,154 (5.33%)\n",
    "\n",
    "This"
   ]
  }
 ],
 "metadata": {
  "kernelspec": {
   "display_name": "Python 3",
   "language": "python",
   "name": "python3"
  },
  "language_info": {
   "codemirror_mode": {
    "name": "ipython",
    "version": 3
   },
   "file_extension": ".py",
   "mimetype": "text/x-python",
   "name": "python",
   "nbconvert_exporter": "python",
   "pygments_lexer": "ipython3",
   "version": "3.10.12"
  }
 },
 "nbformat": 4,
 "nbformat_minor": 5
}
